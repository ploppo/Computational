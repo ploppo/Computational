{
 "cells": [
  {
   "cell_type": "code",
   "execution_count": 1,
   "id": "sudden-nicholas",
   "metadata": {},
   "outputs": [],
   "source": [
    "%matplotlib widget\n",
    "\n",
    "import numpy as np\n",
    "import random\n",
    "import pandas as pd\n",
    "from sklearn.preprocessing import StandardScaler, MinMaxScaler\n",
    "from sklearn.decomposition import PCA\n",
    "from sklearn.cluster import KMeans\n",
    "from sklearn.metrics import silhouette_score\n",
    "import matplotlib.pyplot as plt\n",
    "from mpl_toolkits.mplot3d import Axes3D\n",
    "from matplotlib import cm\n",
    "from matplotlib.lines import Line2D\n",
    "import yaml\n",
    "from IPython.display import display  # to display variables in a \"nice\" way\n",
    "\n",
    "try:\n",
    "    from yaml import CLoader as Loader, CDumper as Dumper\n",
    "except ImportError:\n",
    "    from yaml import Loader, Dumper\n",
    "\n",
    "pd.options.display.max_rows = 140\n",
    "pd.options.display.max_columns = 200"
   ]
  },
  {
   "cell_type": "code",
   "execution_count": 2,
   "id": "everyday-standing",
   "metadata": {},
   "outputs": [],
   "source": [
    "rs = 296312+302736"
   ]
  },
  {
   "cell_type": "code",
   "execution_count": 3,
   "id": "indonesian-preference",
   "metadata": {},
   "outputs": [],
   "source": [
    "df_path = \"responses_hw.csv\" \n",
    "df = pd.read_csv(df_path)\n",
    "# display(df)"
   ]
  },
  {
   "cell_type": "markdown",
   "id": "dental-driver",
   "metadata": {},
   "source": [
    "## Encoding"
   ]
  },
  {
   "cell_type": "code",
   "execution_count": 4,
   "id": "compound-glenn",
   "metadata": {},
   "outputs": [],
   "source": [
    "data = {'Smoking': {'never smoked': 1, 'tried smoking':2, 'former smoker':3, 'current smoker':4},\n",
    "        'Alcohol': {'never':1, 'social drinker': 2, 'drink a lot':3},\n",
    "        'Punctuality': {'early':1, 'on time':2, 'late':3},\n",
    "        'Lying': {'never':1, 'only to avoid hurting someone': 2, 'sometimes':3 ,'everytime it suits me':4},\n",
    "        'Internet usage': {'no time at all':1, 'less than an hour a day':2, 'few hours a day':3, 'most of the day':4}      \n",
    "       }\n",
    "df = df.replace(data)"
   ]
  },
  {
   "cell_type": "code",
   "execution_count": 5,
   "id": "swiss-gather",
   "metadata": {},
   "outputs": [],
   "source": [
    "df = df.iloc[:,:-10]"
   ]
  },
  {
   "cell_type": "code",
   "execution_count": 6,
   "id": "former-amount",
   "metadata": {},
   "outputs": [
    {
     "data": {
      "text/plain": [
       "array([[5., 3., 2., ..., 3., 2., 3.],\n",
       "       [4., 4., 2., ..., 4., 5., 3.],\n",
       "       [5., 5., 2., ..., 3., 4., 5.],\n",
       "       ...,\n",
       "       [4., 3., 1., ..., 3., 5., 1.],\n",
       "       [5., 3., 3., ..., 1., 5., 3.],\n",
       "       [5., 5., 4., ..., 1., 2., 2.]])"
      ]
     },
     "execution_count": 6,
     "metadata": {},
     "output_type": "execute_result"
    }
   ],
   "source": [
    "X = df.values[:,:-10]\n",
    "X"
   ]
  },
  {
   "cell_type": "code",
   "execution_count": 7,
   "id": "tight-devil",
   "metadata": {},
   "outputs": [],
   "source": [
    "col_ent = list(df.columns)[0:63]\n",
    "col_pers = list(df.columns)[63:140]"
   ]
  },
  {
   "cell_type": "code",
   "execution_count": 8,
   "id": "connected-consolidation",
   "metadata": {},
   "outputs": [
    {
     "name": "stdout",
     "output_type": "stream",
     "text": [
      "['Country' 'Geography' 'Latino' 'Slow songs or fast songs' 'Chemistry']\n",
      "['Personality' 'Loneliness' 'Reliability' 'New environment' 'Fake'\n",
      " 'Heights' 'Internet usage' 'Prioritising workload' 'Interests or hobbies'\n",
      " 'Mood swings']\n"
     ]
    }
   ],
   "source": [
    "np.random.seed(rs)\n",
    "rem_ent = np.random.choice(col_ent,5)\n",
    "rem_pers = np.random.choice(col_pers,10)\n",
    "print(rem_ent)\n",
    "print(rem_pers)"
   ]
  },
  {
   "cell_type": "markdown",
   "id": "alike-bible",
   "metadata": {},
   "source": [
    "## Preprocessing dataframe tot e 1"
   ]
  },
  {
   "cell_type": "code",
   "execution_count": 9,
   "id": "micro-spray",
   "metadata": {},
   "outputs": [],
   "source": [
    "df_1 = df.iloc[:,0:63]\n",
    "df_2 = df.iloc[:, 63:]"
   ]
  },
  {
   "cell_type": "code",
   "execution_count": 10,
   "id": "fluid-chase",
   "metadata": {},
   "outputs": [],
   "source": [
    "workdf_1 = df_1.drop(columns=rem_ent)\n",
    "workdf_2 = df_2.drop(columns=rem_pers)"
   ]
  },
  {
   "cell_type": "code",
   "execution_count": 17,
   "id": "removed-garlic",
   "metadata": {},
   "outputs": [],
   "source": [
    "workdf_tot = pd.concat((workdf_1, workdf_2), axis = 1)"
   ]
  },
  {
   "cell_type": "code",
   "execution_count": 34,
   "id": "excellent-samba",
   "metadata": {},
   "outputs": [],
   "source": [
    "workdf_tot_na = workdf_tot.dropna()\n",
    "workdf_1_na = workdf_1.dropna()\n",
    "X_tot_na = workdf_tot_na.values\n",
    "X_1_na = workdf_1_na.values"
   ]
  },
  {
   "cell_type": "code",
   "execution_count": 35,
   "id": "green-marshall",
   "metadata": {},
   "outputs": [],
   "source": [
    "workdf_tot_0 = workdf_tot.fillna(value = 0)\n",
    "workdf_1_0 = workdf_1.fillna(value = 0)\n",
    "X_tot_0 = workdf_tot_0.values\n",
    "X_1_0 = workdf_1_0.values"
   ]
  },
  {
   "cell_type": "code",
   "execution_count": 36,
   "id": "basic-overview",
   "metadata": {},
   "outputs": [],
   "source": [
    "workdf_1_med = workdf_1.fillna(value = workdf_1.median(axis=0))\n",
    "workdf_tot_med = workdf_tot.fillna(value = workdf_tot.median(axis=0))\n",
    "X_tot_med = workdf_tot_med.values\n",
    "X_1_med = workdf_1_med.values"
   ]
  },
  {
   "cell_type": "markdown",
   "id": "loved-yesterday",
   "metadata": {},
   "source": [
    "# Esercizio 3 "
   ]
  },
  {
   "cell_type": "code",
   "execution_count": 57,
   "id": "victorian-daniel",
   "metadata": {},
   "outputs": [],
   "source": [
    "lista_1 = [X_1_na, X_1_0, X_1_med]"
   ]
  },
  {
   "cell_type": "code",
   "execution_count": 58,
   "id": "yellow-bolivia",
   "metadata": {},
   "outputs": [
    {
     "name": "stdout",
     "output_type": "stream",
     "text": [
      "Il minimo è 4\n",
      "Il minimo è 4\n",
      "Il minimo è 4\n"
     ]
    }
   ],
   "source": [
    "# aggiungere roba al print\n",
    "pca = PCA(n_components = 0.3)\n",
    "for elemento in lista_1:\n",
    "    pca.fit(elemento)\n",
    "    m = min(pca.n_components_, 5)\n",
    "    print('Il minimo è', m)"
   ]
  },
  {
   "cell_type": "code",
   "execution_count": 88,
   "id": "interstate-adaptation",
   "metadata": {},
   "outputs": [],
   "source": [
    "pca_1_na = PCA(n_components = 4)\n",
    "pca_1_0 = PCA(n_components = 4)\n",
    "pca_1_med = PCA(n_components = 4)\n",
    "\n",
    "pca_1_na.fit(X_1_na)\n",
    "pca_1_0.fit(X_1_0)\n",
    "pca_1_med.fit(X_1_med)\n",
    "\n",
    "Y_1_na = pca_1_na.transform(X_1_na)\n",
    "Y_1_0 = pca_1_0.transform(X_1_0)\n",
    "Y_1_med = pca_1_med.transform(X_1_med)\n",
    "\n",
    "lista_y_1 = [Y_1_na, Y_1_0, Y_1_med]\n",
    "\n",
    "lista_pca_1 = [pca_1_na, pca_1_0, pca_1_med]"
   ]
  },
  {
   "cell_type": "code",
   "execution_count": 64,
   "id": "covered-fundamentals",
   "metadata": {
    "collapsed": true,
    "jupyter": {
     "outputs_hidden": true
    },
    "tags": []
   },
   "outputs": [
    {
     "data": {
      "application/vnd.jupyter.widget-view+json": {
       "model_id": "f9939fc904914b1daa219667193d86ec",
       "version_major": 2,
       "version_minor": 0
      },
      "text/plain": [
       "Canvas(toolbar=Toolbar(toolitems=[('Home', 'Reset original view', 'home', 'home'), ('Back', 'Back to previous …"
      ]
     },
     "metadata": {},
     "output_type": "display_data"
    },
    {
     "data": {
      "application/vnd.jupyter.widget-view+json": {
       "model_id": "c1cc2c8bf44847fe80cde861c0434dd5",
       "version_major": 2,
       "version_minor": 0
      },
      "text/plain": [
       "Canvas(toolbar=Toolbar(toolitems=[('Home', 'Reset original view', 'home', 'home'), ('Back', 'Back to previous …"
      ]
     },
     "metadata": {},
     "output_type": "display_data"
    },
    {
     "data": {
      "application/vnd.jupyter.widget-view+json": {
       "model_id": "6eae68af74da4e528c7fe9500e2da253",
       "version_major": 2,
       "version_minor": 0
      },
      "text/plain": [
       "Canvas(toolbar=Toolbar(toolitems=[('Home', 'Reset original view', 'home', 'home'), ('Back', 'Back to previous …"
      ]
     },
     "metadata": {},
     "output_type": "display_data"
    },
    {
     "data": {
      "application/vnd.jupyter.widget-view+json": {
       "model_id": "86bb7d716ed5452894dd51deff3c92b2",
       "version_major": 2,
       "version_minor": 0
      },
      "text/plain": [
       "Canvas(toolbar=Toolbar(toolitems=[('Home', 'Reset original view', 'home', 'home'), ('Back', 'Back to previous …"
      ]
     },
     "metadata": {},
     "output_type": "display_data"
    },
    {
     "data": {
      "application/vnd.jupyter.widget-view+json": {
       "model_id": "9fd4fa6f9de24359aa8c69e239b4188b",
       "version_major": 2,
       "version_minor": 0
      },
      "text/plain": [
       "Canvas(toolbar=Toolbar(toolitems=[('Home', 'Reset original view', 'home', 'home'), ('Back', 'Back to previous …"
      ]
     },
     "metadata": {},
     "output_type": "display_data"
    },
    {
     "data": {
      "application/vnd.jupyter.widget-view+json": {
       "model_id": "93782cb77d474e4ea6108e6f7a546f1c",
       "version_major": 2,
       "version_minor": 0
      },
      "text/plain": [
       "Canvas(toolbar=Toolbar(toolitems=[('Home', 'Reset original view', 'home', 'home'), ('Back', 'Back to previous …"
      ]
     },
     "metadata": {},
     "output_type": "display_data"
    }
   ],
   "source": [
    "for el_pca in lista_pca:\n",
    "    # Curve of cumulative percentage of explained variance\n",
    "    plt.figure()\n",
    "    plt.plot(np.insert(np.cumsum(el_pca.explained_variance_ratio_), 0, 0))\n",
    "    plt.title('Workdf_1')\n",
    "    plt.xticks(ticks=np.arange(1, el_pca.n_components + 1), \n",
    "               labels=[f'PC{i}' for i in range(1, el_pca.n_components + 1)])\n",
    "    plt.xlabel('Principal components')\n",
    "    plt.ylabel('Cumulative explained variance')\n",
    "    plt.grid()\n",
    "    plt.show()\n",
    "    \n",
    "    \n",
    "    round_expl_var_ratio = np.round(el_pca.explained_variance_ratio_.sum() * 100, decimals=2)\n",
    "\n",
    "    # Barplot of percentage of explained variance\n",
    "    plt.figure(figsize=(6, 6))\n",
    "    plt.bar(range(1, m + 1), el_pca.explained_variance_ratio_)\n",
    "    plt.title(f\"PCs' EXPLAINED VARIANCE ({round_expl_var_ratio}% OF TOT. EXPL. VAR.)\")\n",
    "    plt.xticks(ticks=np.arange(1, m + 1), \n",
    "               labels=[f'PC{i}' for i in range(1, m + 1)],\n",
    "               rotation=45)\n",
    "    plt.xlabel('Principal Components')\n",
    "    plt.ylabel('Percentage of Explained variance')\n",
    "    plt.grid()\n",
    "    plt.show()"
   ]
  },
  {
   "cell_type": "markdown",
   "id": "declared-toner",
   "metadata": {},
   "source": [
    "# Exercise 4"
   ]
  },
  {
   "cell_type": "markdown",
   "id": "technical-seeking",
   "metadata": {},
   "source": [
    "Colorare le domande in base a come carat nella survey"
   ]
  },
  {
   "cell_type": "code",
   "execution_count": 84,
   "id": "confidential-actress",
   "metadata": {
    "collapsed": true,
    "jupyter": {
     "outputs_hidden": true
    },
    "tags": []
   },
   "outputs": [
    {
     "data": {
      "application/vnd.jupyter.widget-view+json": {
       "model_id": "33074bc96d5d49f79755f7a75bc9a90c",
       "version_major": 2,
       "version_minor": 0
      },
      "text/plain": [
       "Canvas(toolbar=Toolbar(toolitems=[('Home', 'Reset original view', 'home', 'home'), ('Back', 'Back to previous …"
      ]
     },
     "metadata": {},
     "output_type": "display_data"
    },
    {
     "data": {
      "application/vnd.jupyter.widget-view+json": {
       "model_id": "66d8090fffcb432cb83d47482e39d8de",
       "version_major": 2,
       "version_minor": 0
      },
      "text/plain": [
       "Canvas(toolbar=Toolbar(toolitems=[('Home', 'Reset original view', 'home', 'home'), ('Back', 'Back to previous …"
      ]
     },
     "metadata": {},
     "output_type": "display_data"
    },
    {
     "data": {
      "application/vnd.jupyter.widget-view+json": {
       "model_id": "b5c2850296a04d1785e00fe6b1668cf6",
       "version_major": 2,
       "version_minor": 0
      },
      "text/plain": [
       "Canvas(toolbar=Toolbar(toolitems=[('Home', 'Reset original view', 'home', 'home'), ('Back', 'Back to previous …"
      ]
     },
     "metadata": {},
     "output_type": "display_data"
    },
    {
     "data": {
      "application/vnd.jupyter.widget-view+json": {
       "model_id": "91506ee6667246099681635987cf3128",
       "version_major": 2,
       "version_minor": 0
      },
      "text/plain": [
       "Canvas(toolbar=Toolbar(toolitems=[('Home', 'Reset original view', 'home', 'home'), ('Back', 'Back to previous …"
      ]
     },
     "metadata": {},
     "output_type": "display_data"
    },
    {
     "data": {
      "application/vnd.jupyter.widget-view+json": {
       "model_id": "b35c84b858f34b29b1da3f9d66ea6a0a",
       "version_major": 2,
       "version_minor": 0
      },
      "text/plain": [
       "Canvas(toolbar=Toolbar(toolitems=[('Home', 'Reset original view', 'home', 'home'), ('Back', 'Back to previous …"
      ]
     },
     "metadata": {},
     "output_type": "display_data"
    },
    {
     "data": {
      "application/vnd.jupyter.widget-view+json": {
       "model_id": "010938f67ce846c598e3867c2b630198",
       "version_major": 2,
       "version_minor": 0
      },
      "text/plain": [
       "Canvas(toolbar=Toolbar(toolitems=[('Home', 'Reset original view', 'home', 'home'), ('Back', 'Back to previous …"
      ]
     },
     "metadata": {},
     "output_type": "display_data"
    },
    {
     "data": {
      "application/vnd.jupyter.widget-view+json": {
       "model_id": "4619883612e1452a859744c416f4abd4",
       "version_major": 2,
       "version_minor": 0
      },
      "text/plain": [
       "Canvas(toolbar=Toolbar(toolitems=[('Home', 'Reset original view', 'home', 'home'), ('Back', 'Back to previous …"
      ]
     },
     "metadata": {},
     "output_type": "display_data"
    },
    {
     "data": {
      "application/vnd.jupyter.widget-view+json": {
       "model_id": "f065cdfaf73141609378a9f1b0aaecb7",
       "version_major": 2,
       "version_minor": 0
      },
      "text/plain": [
       "Canvas(toolbar=Toolbar(toolitems=[('Home', 'Reset original view', 'home', 'home'), ('Back', 'Back to previous …"
      ]
     },
     "metadata": {},
     "output_type": "display_data"
    },
    {
     "data": {
      "application/vnd.jupyter.widget-view+json": {
       "model_id": "0c79a58aec9846b3beed527431fcb07f",
       "version_major": 2,
       "version_minor": 0
      },
      "text/plain": [
       "Canvas(toolbar=Toolbar(toolitems=[('Home', 'Reset original view', 'home', 'home'), ('Back', 'Back to previous …"
      ]
     },
     "metadata": {},
     "output_type": "display_data"
    },
    {
     "data": {
      "application/vnd.jupyter.widget-view+json": {
       "model_id": "cf308aa37657470684bac9f45420711a",
       "version_major": 2,
       "version_minor": 0
      },
      "text/plain": [
       "Canvas(toolbar=Toolbar(toolitems=[('Home', 'Reset original view', 'home', 'home'), ('Back', 'Back to previous …"
      ]
     },
     "metadata": {},
     "output_type": "display_data"
    },
    {
     "data": {
      "application/vnd.jupyter.widget-view+json": {
       "model_id": "0978eda274a443b4b2531cc2dfb2b991",
       "version_major": 2,
       "version_minor": 0
      },
      "text/plain": [
       "Canvas(toolbar=Toolbar(toolitems=[('Home', 'Reset original view', 'home', 'home'), ('Back', 'Back to previous …"
      ]
     },
     "metadata": {},
     "output_type": "display_data"
    },
    {
     "data": {
      "application/vnd.jupyter.widget-view+json": {
       "model_id": "35d82bf787654179b133593a31bf42aa",
       "version_major": 2,
       "version_minor": 0
      },
      "text/plain": [
       "Canvas(toolbar=Toolbar(toolitems=[('Home', 'Reset original view', 'home', 'home'), ('Back', 'Back to previous …"
      ]
     },
     "metadata": {},
     "output_type": "display_data"
    }
   ],
   "source": [
    "for el_pca in lista_pca_1:\n",
    "    for i in range(el_pca.n_components_):\n",
    "        plt.figure(figsize=(12, 6))\n",
    "        plt.bar(np.arange(el_pca.n_features_), el_pca.components_[i, :])\n",
    "        plt.xticks(ticks=np.arange(el_pca.n_features_), \n",
    "                   labels=workdf_1.columns.to_list(),\n",
    "                   rotation=90)\n",
    "        plt.title(f' YSP - PC{i+1}')\n",
    "        plt.grid()\n",
    "        plt.show()\n"
   ]
  },
  {
   "cell_type": "code",
   "execution_count": 89,
   "id": "varied-wilderness",
   "metadata": {
    "collapsed": true,
    "jupyter": {
     "outputs_hidden": true
    },
    "tags": []
   },
   "outputs": [
    {
     "data": {
      "application/vnd.jupyter.widget-view+json": {
       "model_id": "22933cfd74384b6494b0c41661b2e845",
       "version_major": 2,
       "version_minor": 0
      },
      "text/plain": [
       "Canvas(toolbar=Toolbar(toolitems=[('Home', 'Reset original view', 'home', 'home'), ('Back', 'Back to previous …"
      ]
     },
     "metadata": {},
     "output_type": "display_data"
    },
    {
     "data": {
      "application/vnd.jupyter.widget-view+json": {
       "model_id": "f5a6ab5734204175a8b72f64173d6595",
       "version_major": 2,
       "version_minor": 0
      },
      "text/plain": [
       "Canvas(toolbar=Toolbar(toolitems=[('Home', 'Reset original view', 'home', 'home'), ('Back', 'Back to previous …"
      ]
     },
     "metadata": {},
     "output_type": "display_data"
    },
    {
     "data": {
      "application/vnd.jupyter.widget-view+json": {
       "model_id": "3eba8d17d0004bfab1d6a6dd3e6cf8d1",
       "version_major": 2,
       "version_minor": 0
      },
      "text/plain": [
       "Canvas(toolbar=Toolbar(toolitems=[('Home', 'Reset original view', 'home', 'home'), ('Back', 'Back to previous …"
      ]
     },
     "metadata": {},
     "output_type": "display_data"
    }
   ],
   "source": [
    "for y in lista_y_1:\n",
    "    fig_winescore = plt.figure()\n",
    "    ax = fig_winescore.add_subplot(111, projection='3d')\n",
    "    ax.scatter(y[:, 0], y[:, 1], y[:, 2])\n",
    "    plt.title('YSP - SCORE GRAPH')\n",
    "    ax.set_xlabel('PC1')\n",
    "    ax.set_ylabel('PC2')\n",
    "    ax.set_zlabel('PC3')\n",
    "    plt.grid()\n",
    "    plt.show()"
   ]
  },
  {
   "cell_type": "markdown",
   "id": "judicial-vector",
   "metadata": {},
   "source": [
    "# Exercise 5"
   ]
  },
  {
   "cell_type": "code",
   "execution_count": 92,
   "id": "intensive-cylinder",
   "metadata": {},
   "outputs": [],
   "source": [
    "# giocare con i parametri in modo furbo\n",
    "\n",
    "import sklearn.model_selection\n",
    "\n",
    "# Definizione delle liste di valori tra i quali \"scorrere\" per gli iper-parametri:\n",
    "nclust_list = list(range(3, 11)\n",
    "iter_list = [300, 500, 1000]\n",
    "n_init_list = [3,10]\n",
    "init_list = ['k-means++', 'random']\n",
    "\n",
    "hparameters = {'n_clusters':nclust_list,'init': 'max_iter':iter_list, 'n_init':n_init_list} #dizionario\n",
    "km = KMeans()\n",
    "\n",
    "score = silhouette_score(, km.labels_)\n",
    "km_gs = GridSearchCV(estimator=km, \n",
    "                      param_grid=hparameters, \n",
    "                      scoring='f1_weighted')"
   ]
  },
  {
   "cell_type": "code",
   "execution_count": 91,
   "id": "exciting-warner",
   "metadata": {
    "collapsed": true,
    "jupyter": {
     "outputs_hidden": true
    },
    "tags": []
   },
   "outputs": [
    {
     "name": "stdout",
     "output_type": "stream",
     "text": [
      "****************** START k-MEANS WITH k=3 ******************\n",
      "Computing...\n",
      "****************** END k-MEANS WITH k=3 ******************\n",
      "\n",
      "****************** START k-MEANS WITH k=4 ******************\n",
      "Computing...\n",
      "****************** END k-MEANS WITH k=4 ******************\n",
      "\n",
      "****************** START k-MEANS WITH k=5 ******************\n",
      "Computing...\n",
      "****************** END k-MEANS WITH k=5 ******************\n",
      "\n",
      "****************** START k-MEANS WITH k=6 ******************\n",
      "Computing...\n",
      "****************** END k-MEANS WITH k=6 ******************\n",
      "\n",
      "****************** START k-MEANS WITH k=7 ******************\n",
      "Computing...\n",
      "****************** END k-MEANS WITH k=7 ******************\n",
      "\n",
      "****************** START k-MEANS WITH k=8 ******************\n",
      "Computing...\n",
      "****************** END k-MEANS WITH k=8 ******************\n",
      "\n",
      "****************** START k-MEANS WITH k=9 ******************\n",
      "Computing...\n",
      "****************** END k-MEANS WITH k=9 ******************\n",
      "\n",
      "****************** START k-MEANS WITH k=10 ******************\n",
      "Computing...\n",
      "****************** END k-MEANS WITH k=10 ******************\n",
      "\n",
      "\n",
      "\n",
      "****************** RESULTS OF THE SEARCH... ******************\n",
      "BEST SILHOUETTE SCORE: 0.21160783285055076 --> k = 3\n",
      "**************************************************************\n",
      "****************** START k-MEANS WITH k=3 ******************\n",
      "Computing...\n",
      "****************** END k-MEANS WITH k=3 ******************\n",
      "\n",
      "****************** START k-MEANS WITH k=4 ******************\n",
      "Computing...\n",
      "****************** END k-MEANS WITH k=4 ******************\n",
      "\n",
      "****************** START k-MEANS WITH k=5 ******************\n",
      "Computing...\n",
      "****************** END k-MEANS WITH k=5 ******************\n",
      "\n",
      "****************** START k-MEANS WITH k=6 ******************\n",
      "Computing...\n",
      "****************** END k-MEANS WITH k=6 ******************\n",
      "\n",
      "****************** START k-MEANS WITH k=7 ******************\n",
      "Computing...\n",
      "****************** END k-MEANS WITH k=7 ******************\n",
      "\n",
      "****************** START k-MEANS WITH k=8 ******************\n",
      "Computing...\n",
      "****************** END k-MEANS WITH k=8 ******************\n",
      "\n",
      "****************** START k-MEANS WITH k=9 ******************\n",
      "Computing...\n",
      "****************** END k-MEANS WITH k=9 ******************\n",
      "\n",
      "****************** START k-MEANS WITH k=10 ******************\n",
      "Computing...\n",
      "****************** END k-MEANS WITH k=10 ******************\n",
      "\n",
      "\n",
      "\n",
      "****************** RESULTS OF THE SEARCH... ******************\n",
      "BEST SILHOUETTE SCORE: 0.20963507857839928 --> k = 3\n",
      "**************************************************************\n",
      "****************** START k-MEANS WITH k=3 ******************\n",
      "Computing...\n",
      "****************** END k-MEANS WITH k=3 ******************\n",
      "\n",
      "****************** START k-MEANS WITH k=4 ******************\n",
      "Computing...\n",
      "****************** END k-MEANS WITH k=4 ******************\n",
      "\n",
      "****************** START k-MEANS WITH k=5 ******************\n",
      "Computing...\n",
      "****************** END k-MEANS WITH k=5 ******************\n",
      "\n",
      "****************** START k-MEANS WITH k=6 ******************\n",
      "Computing...\n",
      "****************** END k-MEANS WITH k=6 ******************\n",
      "\n",
      "****************** START k-MEANS WITH k=7 ******************\n",
      "Computing...\n",
      "****************** END k-MEANS WITH k=7 ******************\n",
      "\n",
      "****************** START k-MEANS WITH k=8 ******************\n",
      "Computing...\n",
      "****************** END k-MEANS WITH k=8 ******************\n",
      "\n",
      "****************** START k-MEANS WITH k=9 ******************\n",
      "Computing...\n",
      "****************** END k-MEANS WITH k=9 ******************\n",
      "\n",
      "****************** START k-MEANS WITH k=10 ******************\n",
      "Computing...\n",
      "****************** END k-MEANS WITH k=10 ******************\n",
      "\n",
      "\n",
      "\n",
      "****************** RESULTS OF THE SEARCH... ******************\n",
      "BEST SILHOUETTE SCORE: 0.2105853068497668 --> k = 3\n",
      "**************************************************************\n"
     ]
    }
   ],
   "source": [
    "# INITIALIZE SOME LISTS TO STORE THE TEMPORARY RESULTS AND, THEN, MAKE COMPARISONS\n",
    "\n",
    "# START THE FOR-CYCLE TO RUN THE k-MEANS AND MEASURING THE SILHOUETTE COEFFICIENT\n",
    "for y in lista_y_1:\n",
    "    km_list = []\n",
    "    silcoeff_list = []\n",
    "    k_list = list(range(3, 11))\n",
    "\n",
    "    for i in range(len(k_list)):\n",
    "        print(f'****************** START k-MEANS WITH k={k_list[i]} ******************')\n",
    "        print('Computing...')\n",
    "        km_list.append(KMeans(n_clusters=k_list[i], n_init=3, random_state=rs))\n",
    "        km = km_list[i]\n",
    "        km.fit(y)\n",
    "        silcoeff_list.append(silhouette_score(y, km.labels_))\n",
    "        print(f'****************** END k-MEANS WITH k={k_list[i]} ******************')\n",
    "        print('')\n",
    "\n",
    "    # FIND THE BEST VALUE OF k AND THE BEST KMeans OBJECT\n",
    "    i_best = np.argmax(silcoeff_list)\n",
    "    k = k_list[i_best]\n",
    "    km = km_list[i_best]\n",
    "\n",
    "    # VISUALIZE THE RESULT\n",
    "    print('')\n",
    "    print('')\n",
    "    print('****************** RESULTS OF THE SEARCH... ******************')\n",
    "    print(f'BEST SILHOUETTE SCORE: {np.max(silcoeff_list)} --> k = {k}')\n",
    "    print('**************************************************************')"
   ]
  },
  {
   "cell_type": "markdown",
   "id": "painful-wrist",
   "metadata": {},
   "source": [
    "# Esercizio 8"
   ]
  },
  {
   "cell_type": "code",
   "execution_count": 68,
   "id": "amended-journalism",
   "metadata": {},
   "outputs": [],
   "source": [
    "lista_tot = [X_tot_na, X_tot_0, X_tot_med]"
   ]
  },
  {
   "cell_type": "code",
   "execution_count": 69,
   "id": "baking-looking",
   "metadata": {},
   "outputs": [
    {
     "name": "stdout",
     "output_type": "stream",
     "text": [
      "Il minimo è 6\n",
      "Il minimo è 6\n",
      "Il minimo è 6\n"
     ]
    }
   ],
   "source": [
    "pca = PCA(n_components = 0.3)\n",
    "for elemento in lista_tot:\n",
    "    pca.fit(elemento)\n",
    "    m = min(pca.n_components_, 6)\n",
    "    print('Il minimo è', m)"
   ]
  },
  {
   "cell_type": "code",
   "execution_count": 70,
   "id": "integrated-crime",
   "metadata": {},
   "outputs": [],
   "source": [
    "pca_tot_na = PCA(n_components = 6)\n",
    "pca_tot_0 = PCA(n_components = 6)\n",
    "pca_tot_med = PCA(n_components = 6)\n",
    "\n",
    "pca_tot_na.fit(X_tot_na)\n",
    "pca_tot_0.fit(X_tot_0)\n",
    "pca_tot_med.fit(X_tot_med)\n",
    "\n",
    "lista_pca_tot = [pca_tot_na, pca_tot_0, pca_tot_med]"
   ]
  },
  {
   "cell_type": "code",
   "execution_count": 72,
   "id": "municipal-crime",
   "metadata": {
    "collapsed": true,
    "jupyter": {
     "outputs_hidden": true
    },
    "tags": []
   },
   "outputs": [
    {
     "data": {
      "application/vnd.jupyter.widget-view+json": {
       "model_id": "483bc8ab2f3842b2af6db28991eb5fa1",
       "version_major": 2,
       "version_minor": 0
      },
      "text/plain": [
       "Canvas(toolbar=Toolbar(toolitems=[('Home', 'Reset original view', 'home', 'home'), ('Back', 'Back to previous …"
      ]
     },
     "metadata": {},
     "output_type": "display_data"
    },
    {
     "data": {
      "application/vnd.jupyter.widget-view+json": {
       "model_id": "fc840989661d41db83eb518eca30c334",
       "version_major": 2,
       "version_minor": 0
      },
      "text/plain": [
       "Canvas(toolbar=Toolbar(toolitems=[('Home', 'Reset original view', 'home', 'home'), ('Back', 'Back to previous …"
      ]
     },
     "metadata": {},
     "output_type": "display_data"
    },
    {
     "name": "stderr",
     "output_type": "stream",
     "text": [
      "<ipython-input-72-528f5810ed4b>:3: RuntimeWarning: More than 20 figures have been opened. Figures created through the pyplot interface (`matplotlib.pyplot.figure`) are retained until explicitly closed and may consume too much memory. (To control this warning, see the rcParam `figure.max_open_warning`).\n",
      "  plt.figure()\n"
     ]
    },
    {
     "data": {
      "application/vnd.jupyter.widget-view+json": {
       "model_id": "a0be62390dd24aa8804d4746233cab43",
       "version_major": 2,
       "version_minor": 0
      },
      "text/plain": [
       "Canvas(toolbar=Toolbar(toolitems=[('Home', 'Reset original view', 'home', 'home'), ('Back', 'Back to previous …"
      ]
     },
     "metadata": {},
     "output_type": "display_data"
    },
    {
     "data": {
      "application/vnd.jupyter.widget-view+json": {
       "model_id": "82265de539024b7eb8df29659014691d",
       "version_major": 2,
       "version_minor": 0
      },
      "text/plain": [
       "Canvas(toolbar=Toolbar(toolitems=[('Home', 'Reset original view', 'home', 'home'), ('Back', 'Back to previous …"
      ]
     },
     "metadata": {},
     "output_type": "display_data"
    },
    {
     "data": {
      "application/vnd.jupyter.widget-view+json": {
       "model_id": "109818e1bd104ba5a1c4e57b301de638",
       "version_major": 2,
       "version_minor": 0
      },
      "text/plain": [
       "Canvas(toolbar=Toolbar(toolitems=[('Home', 'Reset original view', 'home', 'home'), ('Back', 'Back to previous …"
      ]
     },
     "metadata": {},
     "output_type": "display_data"
    },
    {
     "data": {
      "application/vnd.jupyter.widget-view+json": {
       "model_id": "419f3443bab84af585dc3c38ad47914d",
       "version_major": 2,
       "version_minor": 0
      },
      "text/plain": [
       "Canvas(toolbar=Toolbar(toolitems=[('Home', 'Reset original view', 'home', 'home'), ('Back', 'Back to previous …"
      ]
     },
     "metadata": {},
     "output_type": "display_data"
    }
   ],
   "source": [
    "for el_pca in lista_pca_tot:\n",
    "    # Curve of cumulative percentage of explained variance\n",
    "    plt.figure()\n",
    "    plt.plot(np.insert(np.cumsum(el_pca.explained_variance_ratio_), 0, 0))\n",
    "    plt.title('Workdf_tot')\n",
    "    plt.xticks(ticks=np.arange(1, el_pca.n_components + 1), \n",
    "               labels=[f'PC{i}' for i in range(1, el_pca.n_components + 1)])\n",
    "    plt.xlabel('Principal components')\n",
    "    plt.ylabel('Cumulative explained variance')\n",
    "    plt.grid()\n",
    "    plt.show()\n",
    "    \n",
    "    \n",
    "    round_expl_var_ratio = np.round(el_pca.explained_variance_ratio_.sum() * 100, decimals=2)\n",
    "\n",
    "    # Barplot of percentage of explained variance\n",
    "    plt.figure(figsize=(6, 6))\n",
    "    plt.bar(range(1, m + 1), el_pca.explained_variance_ratio_)\n",
    "    plt.title(f\"PCs' EXPLAINED VARIANCE ({round_expl_var_ratio}% OF TOT. EXPL. VAR.)\")\n",
    "    plt.xticks(ticks=np.arange(1, m + 1), \n",
    "               labels=[f'PC{i}' for i in range(1, m + 1)],\n",
    "               rotation=45)\n",
    "    plt.xlabel('Principal Components')\n",
    "    plt.ylabel('Percentage of Explained variance')\n",
    "    plt.grid()\n",
    "    plt.show()"
   ]
  },
  {
   "cell_type": "code",
   "execution_count": null,
   "id": "thirty-curtis",
   "metadata": {},
   "outputs": [],
   "source": []
  }
 ],
 "metadata": {
  "kernelspec": {
   "display_name": "Python 3",
   "language": "python",
   "name": "python3"
  },
  "language_info": {
   "codemirror_mode": {
    "name": "ipython",
    "version": 3
   },
   "file_extension": ".py",
   "mimetype": "text/x-python",
   "name": "python",
   "nbconvert_exporter": "python",
   "pygments_lexer": "ipython3",
   "version": "3.8.0"
  }
 },
 "nbformat": 4,
 "nbformat_minor": 5
}
